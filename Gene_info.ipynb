{
 "cells": [
  {
   "cell_type": "code",
   "execution_count": 1,
   "id": "971a2448",
   "metadata": {},
   "outputs": [],
   "source": [
    "import requests\n",
    "from bs4 import BeautifulSoup\n",
    "def gene_info(gene_list):\n",
    "    ''' NCBI gene ifno: by @biomedical_informatics. Edris Sharif Rahmani March 2, 2023\n",
    "    '''\n",
    "    geneids = []\n",
    "    with open(\"NCBI_gene_dict.txt\") as ncbi_genes:\n",
    "        for line in ncbi_genes:\n",
    "            line = line.strip().split(\":\")\n",
    "            for gene in gene_list:\n",
    "                if line[0] == gene:\n",
    "                    geneids.append(line[1])\n",
    "    for item in geneids:\n",
    "        url = f\"https://www.ncbi.nlm.nih.gov/gene/{item}\"\n",
    "        response = requests.get(url)\n",
    "        soup = BeautifulSoup(response.content, \"html.parser\")\n",
    "        symbol = soup.find(\"dt\", text=' Official\\n                         Symbol')\n",
    "        if symbol:\n",
    "            symbol = symbol.find_next_sibling(\"dd\").text.strip()\n",
    "        summary = soup.find(\"dt\", text=\"Summary\")\n",
    "        if summary:\n",
    "            summary = summary.find_next_sibling(\"dd\").text.strip()\n",
    "        gene_type = soup.find(\"dt\", text=\"Gene type\")\n",
    "        if gene_type:\n",
    "            gene_type = gene_type.find_next_sibling(\"dd\").text.strip()\n",
    "        official_full_name = soup.find('dt', text=' Official\\n                         Full Name')\n",
    "        if official_full_name:\n",
    "            official_full_name = official_full_name.find_next_sibling(\"dd\").text.strip()\n",
    "        location = soup.find('dt', text='Location: ').find_next_sibling('dd').text.strip()\n",
    "        print(\"Gene Symbol: \", \"\\t\",\"\\t\", symbol[:-16])\n",
    "        print(\"Gene ID: \", \"\\t\",\"\\t\", item)\n",
    "        print(\"Gene Type: \", \"\\t\",\"\\t\", gene_type)\n",
    "        print(\"Official Full Name: \", \"\\t\", official_full_name[:-16])\n",
    "        print(\"Location: \", \"\\t\",\"\\t\",location)\n",
    "        print(\"Summary: \",\"\\t\",\"\\t\", summary)\n",
    "        print(\"------------------------------ \\n\")"
   ]
  },
  {
   "cell_type": "code",
   "execution_count": 2,
   "id": "10e95f4c",
   "metadata": {},
   "outputs": [
    {
     "name": "stdout",
     "output_type": "stream",
     "text": [
      "Gene Symbol:  \t \t ASCL2\n",
      "Gene ID:  \t \t 430\n",
      "Gene Type:  \t \t protein coding\n",
      "Official Full Name:  \t achaete-scute family bHLH transcription factor 2\n",
      "Location:  \t \t 11p15.5\n",
      "Summary:  \t \t This gene is a member of the basic helix-loop-helix (BHLH) family of transcription factors. It activates transcription by binding to the E box (5'-CANNTG-3'). Dimerization with other BHLH proteins is required for efficient DNA binding. Involved in the determination of the neuronal precursors in the peripheral nervous system and the central nervous system. [provided by RefSeq, Jul 2008]\n",
      "------------------------------ \n",
      "\n",
      "Gene Symbol:  \t \t MEIS1\n",
      "Gene ID:  \t \t 4211\n",
      "Gene Type:  \t \t protein coding\n",
      "Official Full Name:  \t Meis homeobox 1\n",
      "Location:  \t \t 2p14\n",
      "Summary:  \t \t Homeobox genes, of which the most well-characterized category is represented by the HOX genes, play a crucial role in normal development. In addition, several homeoproteins are involved in neoplasia. This gene encodes a homeobox protein belonging to the TALE ('three amino acid loop extension') family of homeodomain-containing proteins. [provided by RefSeq, Jul 2008]\n",
      "------------------------------ \n",
      "\n",
      "Gene Symbol:  \t \t SLC8A1\n",
      "Gene ID:  \t \t 6546\n",
      "Gene Type:  \t \t protein coding\n",
      "Official Full Name:  \t solute carrier family 8 member A1\n",
      "Location:  \t \t 2p22.1\n",
      "Summary:  \t \t In cardiac myocytes, Ca(2+) concentrations alternate between high levels during contraction and low levels during relaxation. The increase in Ca(2+) concentration during contraction is primarily due to release of Ca(2+) from intracellular stores. However, some Ca(2+) also enters the cell through the sarcolemma (plasma membrane). During relaxation, Ca(2+) is sequestered within the intracellular stores. To prevent overloading of intracellular stores, the Ca(2+) that entered across the sarcolemma must be extruded from the cell. The Na(+)-Ca(2+) exchanger is the primary mechanism by which the Ca(2+) is extruded from the cell during relaxation. In the heart, the exchanger may play a key role in digitalis action. The exchanger is the dominant mechanism in returning the cardiac myocyte to its resting state following excitation.[supplied by OMIM, Apr 2004]\n",
      "------------------------------ \n",
      "\n"
     ]
    }
   ],
   "source": [
    "gene_info([\"SLC8A1\", \"MEIS1\", \"ASCL2\"])"
   ]
  },
  {
   "cell_type": "code",
   "execution_count": null,
   "id": "e4ed315a",
   "metadata": {},
   "outputs": [],
   "source": []
  }
 ],
 "metadata": {
  "kernelspec": {
   "display_name": "Python 3 (ipykernel)",
   "language": "python",
   "name": "python3"
  },
  "language_info": {
   "codemirror_mode": {
    "name": "ipython",
    "version": 3
   },
   "file_extension": ".py",
   "mimetype": "text/x-python",
   "name": "python",
   "nbconvert_exporter": "python",
   "pygments_lexer": "ipython3",
   "version": "3.10.6"
  }
 },
 "nbformat": 4,
 "nbformat_minor": 5
}
