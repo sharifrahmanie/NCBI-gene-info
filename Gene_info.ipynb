{
 "cells": [
  {
   "cell_type": "code",
   "execution_count": 1,
   "id": "971a2448",
   "metadata": {},
   "outputs": [],
   "source": [
    "import requests\n",
    "from bs4 import BeautifulSoup\n",
    "def gene_info(gene_list):\n",
    "    ''' NCBI gene ifno: by @biomedical_informatics. Edris Sharif Rahmani Feb 20, 2023\n",
    "    '''\n",
    "    geneids = []\n",
    "    with open(\"NCBI_gene_dict.txt\") as ncbi_genes:\n",
    "        for line in ncbi_genes:\n",
    "            line = line.strip().split(\":\")\n",
    "            for gene in gene_list:\n",
    "                if line[0] == gene:\n",
    "                    geneids.append(line[1])\n",
    "    for item in geneids:\n",
    "        url = f\"https://www.ncbi.nlm.nih.gov/gene/{item}\"\n",
    "        response = requests.get(url)\n",
    "        soup = BeautifulSoup(response.content, \"html.parser\")\n",
    "        summary = soup.find(\"dt\", text=\"Summary\")\n",
    "        if summary:\n",
    "            summary = summary.find_next_sibling(\"dd\").text.strip()\n",
    "        gene_type = soup.find(\"dt\", text=\"Gene type\")\n",
    "        if gene_type:\n",
    "            gene_type = gene_type.find_next_sibling(\"dd\").text.strip()\n",
    "        official_full_name = soup.find('dt', text=' Official\\n                         Full Name')\n",
    "        if official_full_name:\n",
    "            official_full_name = official_full_name.find_next_sibling(\"dd\").text.strip()\n",
    "        location = soup.find('dt', text='Location: ').find_next_sibling('dd').text.strip()\n",
    "        print(\"Gene ID: \", \"\\t\",\"\\t\", item)\n",
    "        print(\"Gene Type: \", \"\\t\",\"\\t\", gene_type)\n",
    "        print(\"Official Full Name: \", \"\\t\", official_full_name[:-16])\n",
    "        print(\"Location: \", \"\\t\",\"\\t\",location)\n",
    "        print(\"Summary: \",\"\\t\",\"\\t\", summary)"
   ]
  },
  {
   "cell_type": "code",
   "execution_count": 2,
   "id": "10e95f4c",
   "metadata": {},
   "outputs": [
    {
     "name": "stdout",
     "output_type": "stream",
     "text": [
      "Gene ID:  \t \t 7157\n",
      "Gene Type:  \t \t protein coding\n",
      "Official Full Name:  \t tumor protein p53\n",
      "Location:  \t \t 17p13.1\n",
      "Summary:  \t \t This gene encodes a tumor suppressor protein containing transcriptional activation, DNA binding, and oligomerization domains. The encoded protein responds to diverse cellular stresses to regulate expression of target genes, thereby inducing cell cycle arrest, apoptosis, senescence, DNA repair, or changes in metabolism. Mutations in this gene are associated with a variety of human cancers, including hereditary cancers such as Li-Fraumeni syndrome. Alternative splicing of this gene and the use of alternate promoters result in multiple transcript variants and isoforms. Additional isoforms have also been shown to result from the use of alternate translation initiation codons from identical transcript variants (PMIDs: 12032546, 20937277). [provided by RefSeq, Dec 2016]\n"
     ]
    }
   ],
   "source": [
    "gene_info([\"TP53\"])"
   ]
  },
  {
   "cell_type": "code",
   "execution_count": null,
   "id": "cc9cb956",
   "metadata": {},
   "outputs": [],
   "source": []
  }
 ],
 "metadata": {
  "kernelspec": {
   "display_name": "Python 3 (ipykernel)",
   "language": "python",
   "name": "python3"
  },
  "language_info": {
   "codemirror_mode": {
    "name": "ipython",
    "version": 3
   },
   "file_extension": ".py",
   "mimetype": "text/x-python",
   "name": "python",
   "nbconvert_exporter": "python",
   "pygments_lexer": "ipython3",
   "version": "3.10.6"
  }
 },
 "nbformat": 4,
 "nbformat_minor": 5
}
